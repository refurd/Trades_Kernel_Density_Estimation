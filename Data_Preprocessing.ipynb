{
  "nbformat": 4,
  "nbformat_minor": 0,
  "metadata": {
    "colab": {
      "name": "Untitled0.ipynb másolata",
      "private_outputs": true,
      "provenance": [],
      "collapsed_sections": []
    },
    "kernelspec": {
      "name": "python3",
      "display_name": "Python 3"
    },
    "accelerator": "TPU"
  },
  "cells": [
    {
      "cell_type": "markdown",
      "metadata": {
        "id": "zY-I4OA-dITr"
      },
      "source": [
        "# **Adatok kijelzése grafikonon**"
      ]
    },
    {
      "cell_type": "markdown",
      "metadata": {
        "id": "xQbkcW99dSya"
      },
      "source": [
        "### Importálások"
      ]
    },
    {
      "cell_type": "code",
      "metadata": {
        "id": "NJHMtfA6cuy2"
      },
      "source": [
        "import numpy as np\r\n",
        "import pandas as pd\r\n",
        "import pandas_datareader as web\r\n",
        "import matplotlib.pyplot as plt\r\n",
        "import sys\r\n",
        "import plotly.graph_objects as go\r\n",
        "import plotly.express as px\r\n",
        "import datetime"
      ],
      "execution_count": null,
      "outputs": []
    },
    {
      "cell_type": "markdown",
      "metadata": {
        "id": "pKYsQR-ZdXwi"
      },
      "source": [
        "### Beolvassuk a CSV-t"
      ]
    },
    {
      "cell_type": "code",
      "metadata": {
        "id": "1jN7ZHi_dBiI"
      },
      "source": [
        "df_raw = web.DataReader('NVDA', data_source='yahoo', start='2012-01-01', end='2020-01-01')\r\n",
        "df_raw.head()"
      ],
      "execution_count": null,
      "outputs": []
    },
    {
      "cell_type": "code",
      "metadata": {
        "id": "PyIHOcce_I65"
      },
      "source": [
        "df_raw = df_raw.reset_index()\r\n",
        "df_raw.head()\r\n",
        "\r\n"
      ],
      "execution_count": null,
      "outputs": []
    },
    {
      "cell_type": "code",
      "metadata": {
        "id": "iq-4DKFrCqg9"
      },
      "source": [
        "df_raw.iat[1,0]\r\n",
        "df_raw.info()\r\n"
      ],
      "execution_count": null,
      "outputs": []
    },
    {
      "cell_type": "markdown",
      "metadata": {
        "id": "-__USxd6dUuN"
      },
      "source": [
        "### Egy táblázatba hozzuk az adatokat. Open - Max - Min - Close."
      ]
    },
    {
      "cell_type": "markdown",
      "metadata": {
        "id": "Q5GS9_2Qdd24"
      },
      "source": [
        "##### Betöltjük egy táblába a dátumot és az adatokat egymás után"
      ]
    },
    {
      "cell_type": "code",
      "metadata": {
        "id": "g0yNt_NHdgDs"
      },
      "source": [
        "df_Date = []\r\n",
        "for x in range(0, len(df_raw)):\r\n",
        "    for y in range (0,4):\r\n",
        "       date_time_str =\"0000-00-00 \"+str(9+y*4)+\":00\"\r\n",
        "       date_time = df_raw.iat[x,0] + datetime.timedelta(hours=(9+y*4),minutes=0)\r\n",
        "       df_Date.append(date_time)\r\n",
        "df_Value = []\r\n",
        "for x in range(0, len(df_raw)):\r\n",
        "    for y in range (1,5):\r\n",
        "        df_Value.append(df_raw.iat[x,y])"
      ],
      "execution_count": null,
      "outputs": []
    },
    {
      "cell_type": "markdown",
      "metadata": {
        "id": "xlZp-5DzdnXa"
      },
      "source": [
        "##### Létrehozzuk az új df-et"
      ]
    },
    {
      "cell_type": "code",
      "metadata": {
        "id": "p4dyRV8zdoXn"
      },
      "source": [
        "data = {'date':df_Date, 'stock1':df_Value}\r\n",
        "df = pd.DataFrame(data)\r\n",
        "df.head()"
      ],
      "execution_count": null,
      "outputs": []
    },
    {
      "cell_type": "markdown",
      "metadata": {
        "id": "3NY6FLHsdrvV"
      },
      "source": [
        "### Adat ellenőrzés"
      ]
    },
    {
      "cell_type": "code",
      "metadata": {
        "id": "C_XVt7k2dsg_"
      },
      "source": [
        "#df.iloc[1,1]\r\n",
        "#df.isnull().sum()\r\n",
        "#df.info()\r\n",
        "#df.describe()\r\n",
        "#df.plot()\r\n",
        "df.tail(50)"
      ],
      "execution_count": null,
      "outputs": []
    },
    {
      "cell_type": "code",
      "metadata": {
        "id": "0HHRqXjmrzg-"
      },
      "source": [
        "df.head()\r\n"
      ],
      "execution_count": null,
      "outputs": []
    },
    {
      "cell_type": "markdown",
      "metadata": {
        "id": "sWAVjreZwt4h"
      },
      "source": [
        "### Destabilitásvizsgálat"
      ]
    },
    {
      "cell_type": "markdown",
      "metadata": {
        "id": "aE9vr9EoOizk"
      },
      "source": [
        "#### az utolsó x elemen veszi a legnagyobb különbséget és elossza az átlagos függvényértékkel"
      ]
    },
    {
      "cell_type": "code",
      "metadata": {
        "id": "GdL7bW3kdwnw"
      },
      "source": [
        "#amennyi az a/7 annyi adatra kell illeszteni a magasfrekvenciás polinomot!\r\n",
        "\r\n",
        "x, y, z, a = 0, 0, 0, 0\r\n",
        "df_dst = df\r\n",
        "a=50\r\n",
        "for z in range(0,3):\r\n",
        "  dst = []\r\n",
        "  a=a+a*z\r\n",
        "  for y in range(0,a):\r\n",
        "    dst.append(0)\r\n",
        "  for x in range(a,df.shape[0]):\r\n",
        "    dif = (df[x:x+a].max()-df[x:x+a].min()).array[1]\r\n",
        "    dem = (df[x:x+a].mean(axis = 0,numeric_only=True)).array[0]\r\n",
        "    dst.append(dif/dem)\r\n",
        "  cln = 'Dest'+str(a)\r\n",
        "  df_dst[cln] = dst\r\n",
        "\r\n",
        "df_dst.tail(10)"
      ],
      "execution_count": null,
      "outputs": []
    },
    {
      "cell_type": "code",
      "metadata": {
        "id": "ad3rL3Qmd_CC"
      },
      "source": [
        "fig = px.line(df, x='date', y='stock1')\r\n",
        "\r\n",
        "fig.show()"
      ],
      "execution_count": null,
      "outputs": []
    },
    {
      "cell_type": "code",
      "metadata": {
        "id": "ak4b0w1XUqAf"
      },
      "source": [
        "fig = px.line(df_dst, x=\"date\", y='Dest50')\r\n",
        "fig.show()"
      ],
      "execution_count": null,
      "outputs": []
    },
    {
      "cell_type": "markdown",
      "metadata": {
        "id": "4ndrWZ9xrYCH"
      },
      "source": [
        "Most, hogy elő vannak készítve az adatok napi bontásban..\r\n",
        "**Mennyire VAD a függvény**\r\n",
        "Megnézem minden időpillanatban \"d\" értékre a MAX és MIN különbségét és elosztom a piaci értékkel \r\n",
        "\r\n",
        "Az adatokra valami mozgó átlagot kell illeszteni végig, majd annak venni az első és másidik deriváltjait a vizsgálati idő szerinti mennyiségű adaton, később ezt fogja helyettesíteni az adatokra illesztett polinom"
      ]
    }
  ]
}